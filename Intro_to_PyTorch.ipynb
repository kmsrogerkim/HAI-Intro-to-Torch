{
  "nbformat": 4,
  "nbformat_minor": 0,
  "metadata": {
    "colab": {
      "provenance": [],
      "collapsed_sections": [
        "3JLDvJVR8CHg"
      ],
      "toc_visible": true,
      "authorship_tag": "ABX9TyNvniR2rQ4ZI0UO0JqtMEbb",
      "include_colab_link": true
    },
    "kernelspec": {
      "name": "python3",
      "display_name": "Python 3"
    },
    "language_info": {
      "name": "python"
    }
  },
  "cells": [
    {
      "cell_type": "markdown",
      "metadata": {
        "id": "view-in-github",
        "colab_type": "text"
      },
      "source": [
        "<a href=\"https://colab.research.google.com/github/kmsrogerkim/HAI-Intro-to-Torch/blob/master/Intro_to_PyTorch.ipynb\" target=\"_parent\"><img src=\"https://colab.research.google.com/assets/colab-badge.svg\" alt=\"Open In Colab\"/></a>"
      ]
    },
    {
      "cell_type": "code",
      "source": [
        "import torch\n",
        "import torch.nn as nn\n",
        "import torchvision\n",
        "\n",
        "from tqdm import tqdm\n",
        "import matplotlib.pyplot as plt"
      ],
      "metadata": {
        "id": "5j83dE7q8FZS"
      },
      "execution_count": 10,
      "outputs": []
    },
    {
      "cell_type": "markdown",
      "source": [
        "# Dataset"
      ],
      "metadata": {
        "id": "ON8646C6Jdwg"
      }
    },
    {
      "cell_type": "code",
      "source": [
        "# 이렇게 딸깍 할 수 있으면 좋다\n",
        "# MNIST 만드신 분들께 감사하다\n",
        "train_dataset = []\n",
        "train_dataset = torchvision.datasets.MNIST(root='.', train=True, transform=torchvision.transforms.ToTensor(), download=True)\n",
        "test_dataset = torchvision.datasets.MNIST(root='.', train=False, transform=torchvision.transforms.ToTensor(), download=True)\n",
        "\n",
        "# DataLoader란?\n",
        "train_dataloader = torch.utils.data.DataLoader(train_dataset, batch_size=512, shuffle=True)\n",
        "test_dataloader = torch.utils.data.DataLoader(test_dataset, batch_size=512, shuffle=True)"
      ],
      "metadata": {
        "id": "0qwopaDYJgQe"
      },
      "execution_count": null,
      "outputs": []
    },
    {
      "cell_type": "markdown",
      "source": [
        "# Loss Function & Optimizer"
      ],
      "metadata": {
        "id": "RQqJIVhfKP3y"
      }
    },
    {
      "cell_type": "code",
      "source": [
        "# 여기서는 간단히 개념만 알기\n",
        "loss_fn = nn.CrossEntropyLoss()\n",
        "optimizer = torch.optim.Adam(model.parameters(), lr=0.001)"
      ],
      "metadata": {
        "id": "honNJRpHKRje"
      },
      "execution_count": null,
      "outputs": []
    },
    {
      "cell_type": "markdown",
      "source": [
        "# Training"
      ],
      "metadata": {
        "id": "NvNkG1SmKrWf"
      }
    },
    {
      "cell_type": "code",
      "source": [
        "loss_values, accuracy = [], []\n",
        "\n",
        "for epoch in tqdm(range(3)):\n",
        "    print(f\"Epoch: {epoch}\")\n",
        "    model.train()\n",
        "\n",
        "    step = 0\n",
        "\n",
        "    for image, label in tqdm(train_dataloader):\n",
        "        image = image.reshape(-1, 28*28).cuda()\n",
        "        label = label.reshape(-1).cuda()\n",
        "\n",
        "        optimizer.zero_grad()\n",
        "\n",
        "        prediction = model(image) #already on cuda\n",
        "        loss = loss_fn(prediction, label)\n",
        "\n",
        "        loss.backward()\n",
        "        optimizer.step()\n",
        "\n",
        "        step += 1\n",
        "\n",
        "        if step % 20 == 0:\n",
        "            with torch.no_grad():\n",
        "                total, correct = 0, 0\n",
        "\n",
        "                for image, label in test_dataloader:\n",
        "                    image = image.reshape(-1, 28*28).cuda()\n",
        "                    label = label.reshape(-1).cuda()\n",
        "\n",
        "                    prediction = model(image).argmax(dim=-1)\n",
        "\n",
        "                    correct += (prediction == label).sum().item() #sum of all the same values\n",
        "                    total += image.shape[0] #number of batch size?\n",
        "\n",
        "                accuracy.append(correct * 100 / total)\n",
        "                loss_values.append(loss.item())"
      ],
      "metadata": {
        "id": "vcGJpFXDKs7g"
      },
      "execution_count": null,
      "outputs": []
    },
    {
      "cell_type": "markdown",
      "source": [
        "# Model Definition"
      ],
      "metadata": {
        "id": "3JLDvJVR8CHg"
      }
    },
    {
      "cell_type": "code",
      "source": [
        "class Model(nn.Module):\n",
        "  def __init__(self, ):\n",
        "    super().__init__()\n",
        "\n",
        "    # 2: input dimension, 10: output dimension\n",
        "    self.layer1 = nn.Linear(2, 10)\n",
        "    self.layer2 = nn.Linear(10, 10)\n",
        "    self.layer3 = nn.Linear(10, 2)\n",
        "\n",
        "    # activation function\n",
        "    self.relu = nn.ReLU() #비선형성 추가\n",
        "\n",
        "  #automatically ran when called\n",
        "  def forward(self, x):\n",
        "    # ipnut shape x: 2\n",
        "    x = self.layer1(x)\n",
        "    x = self.relu(x)\n",
        "\n",
        "    # input shape x: 10\n",
        "    x = self.layer2(x)\n",
        "    x = self.relu(x)\n",
        "\n",
        "    # input shape x: 10\n",
        "    x = self.layer3(x)\n",
        "    x = nn.functional.softmax(x)\n",
        "\n",
        "    # return shape x: 2\n",
        "    return x"
      ],
      "metadata": {
        "id": "4f3gPLFx8Vuw"
      },
      "execution_count": 3,
      "outputs": []
    },
    {
      "cell_type": "code",
      "source": [
        "class Discriminator(nn.Module):\n",
        "  def __init__(self):\n",
        "    super().__init__()\n",
        "\n",
        "    self.model = nn.Sequential(\n",
        "      nn.Linear(28*28, 1024),\n",
        "      nn.LeakyReLU(0.2),\n",
        "      nn.Dropout(0.3),\n",
        "      nn.Linear(1024, 512),\n",
        "      nn.LeakyReLU(0.2),\n",
        "      nn.Dropout(0.3),\n",
        "      nn.Linear(512, 256),\n",
        "      nn.LeakyReLU(0.2),\n",
        "      nn.Dropout(0.3),\n",
        "      nn.Linear(256, 1),\n",
        "      nn.Sigmoid()\n",
        "    )\n",
        "\n",
        "  def forward(self, x):\n",
        "    return self.model(x)"
      ],
      "metadata": {
        "id": "Pg5s3N0T9mef"
      },
      "execution_count": 5,
      "outputs": []
    },
    {
      "cell_type": "code",
      "source": [
        "class DownBlock(nn.Module):\n",
        "    def __init__(self, in_ch, out_ch):\n",
        "        kernel_size = 3\n",
        "        stride = 1\n",
        "        padding = 1\n",
        "\n",
        "        super().__init__()\n",
        "        layers = [\n",
        "            nn.Conv2d(in_ch, out_ch, kernel_size, stride, padding),\n",
        "            nn.BatchNorm2d(out_ch),\n",
        "            nn.ReLU(),\n",
        "            nn.Conv2d(out_ch, out_ch, kernel_size, stride, padding),\n",
        "            nn.BatchNorm2d(out_ch),\n",
        "            nn.ReLU(),\n",
        "            nn.MaxPool2d(2),\n",
        "        ]\n",
        "        self.model = nn.Sequential(*layers)\n",
        "\n",
        "    def forward(self, x):\n",
        "        return self.model(x)\n",
        "\n",
        "class UpBlock(nn.Module):\n",
        "    def __init__(self, in_ch, out_ch):\n",
        "        kernel_size = 3\n",
        "        stride = 1\n",
        "        padding = 1\n",
        "\n",
        "        strideT = 2\n",
        "        out_paddingT = 1\n",
        "\n",
        "        super().__init__()\n",
        "        layers = [\n",
        "            nn.ConvTranspose2d(2 * in_ch, out_ch, kernel_size, strideT, padding, out_paddingT),\n",
        "            nn.BatchNorm2d(out_ch),\n",
        "            nn.ReLU(),\n",
        "            nn.Conv2d(out_ch, out_ch, kernel_size, stride, padding),\n",
        "            nn.BatchNorm2d(out_ch),\n",
        "            nn.ReLU(),\n",
        "        ]\n",
        "        self.model = nn.Sequential(*layers)\n",
        "\n",
        "    def forward(self, x, skip):\n",
        "        x = torch.cat((x, skip), 1)\n",
        "        x = self.model(x)\n",
        "        return x\n",
        "\n",
        "class EmbedBlock(nn.Module):\n",
        "    def __init__(self, input_dim, emb_dim):\n",
        "        super().__init__()\n",
        "        self.input_dim = input_dim\n",
        "        layers = [\n",
        "            nn.Linear(input_dim, emb_dim),\n",
        "            nn.ReLU(),\n",
        "            nn.Linear(emb_dim, emb_dim),\n",
        "            nn.Unflatten(1, (emb_dim, 1, 1)),\n",
        "        ]\n",
        "        self.model = nn.Sequential(*layers)\n",
        "\n",
        "    def forward(self, input):\n",
        "        input = input.view(-1, self.input_dim)\n",
        "        return self.model(input)\n",
        "\n",
        "\n",
        "class Unet(nn.Module):\n",
        "    def __init__(self, ch, size, _down_chs, timestep=1000):\n",
        "        super().__init__()\n",
        "        down_chs = _down_chs    # len = 5\n",
        "        up_chs = down_chs[::-1]\n",
        "        latent_image_size = size // 16 # 2 ** (len(down_chs) - 1)\n",
        "        t_dim = 1\n",
        "\n",
        "        self.image_size = (1, ch, size, size)\n",
        "\n",
        "        self.down0 = nn.Sequential(\n",
        "            nn.Conv2d(ch, down_chs[0], 3, padding=1),\n",
        "            nn.BatchNorm2d(down_chs[0]),\n",
        "            nn.ReLU(),\n",
        "        )\n",
        "\n",
        "        self.down1 = DownBlock(down_chs[0], down_chs[1])\n",
        "        self.down2 = DownBlock(down_chs[1], down_chs[2])\n",
        "        self.down3 = DownBlock(down_chs[2], down_chs[3])\n",
        "        self.down4 = DownBlock(down_chs[3], down_chs[4])\n",
        "        self.to_vec = nn.Sequential(nn.Flatten(), nn.ReLU())\n",
        "\n",
        "        self.dense_emb = nn.Sequential(\n",
        "            nn.Linear(down_chs[4]*latent_image_size**2, down_chs[3]),\n",
        "            nn.ReLU(),\n",
        "            nn.Linear(down_chs[3], down_chs[2]),\n",
        "            nn.ReLU(),\n",
        "            nn.Linear(down_chs[2], down_chs[1]),\n",
        "            nn.ReLU(),\n",
        "            nn.Linear(down_chs[1], down_chs[2]),\n",
        "            nn.ReLU(),\n",
        "            nn.Linear(down_chs[2], down_chs[3]),\n",
        "            nn.ReLU(),\n",
        "            nn.Linear(down_chs[3], down_chs[4]*latent_image_size**2),\n",
        "            nn.ReLU(),\n",
        "        )\n",
        "        self.temb_1 = EmbedBlock(t_dim, up_chs[0])\n",
        "        self.temb_2 = EmbedBlock(t_dim, up_chs[1])\n",
        "        self.temb_3 = EmbedBlock(t_dim, up_chs[2])\n",
        "        self.temb_4 = EmbedBlock(t_dim, up_chs[3])\n",
        "\n",
        "        self.up0 = nn.Sequential(\n",
        "            nn.Unflatten(1, (up_chs[0], latent_image_size, latent_image_size)),\n",
        "            nn.Conv2d(up_chs[0], up_chs[0], 3, padding=1),\n",
        "            nn.BatchNorm2d(up_chs[0]),\n",
        "            nn.ReLU(),\n",
        "        )\n",
        "        self.up1 = UpBlock(up_chs[0], up_chs[1])\n",
        "        self.up2 = UpBlock(up_chs[1], up_chs[2])\n",
        "        self.up3 = UpBlock(up_chs[2], up_chs[3])\n",
        "        self.up4 = UpBlock(up_chs[3], up_chs[4])\n",
        "\n",
        "        self.out = nn.Sequential(\n",
        "            nn.Conv2d(up_chs[-1], up_chs[-1], 3, 1, 1),\n",
        "            nn.BatchNorm2d(up_chs[-1]),\n",
        "            nn.ReLU(),\n",
        "            nn.Conv2d(up_chs[-1], ch, 3, 1, 1),\n",
        "        )\n",
        "\n",
        "        self.timestep = timestep\n",
        "        self.betas = torch.linspace(1e-4, 2e-2, self.timestep)\n",
        "        self.alphas = 1 - self.betas\n",
        "        self.alphas_bar = torch.cumprod(self.alphas, -1)\n",
        "\n",
        "    def forward(self, x, t):\n",
        "        timestep = torch.tensor([self.timestep], device=x.device)\n",
        "\n",
        "        down0 = self.down0(x)\n",
        "        down1 = self.down1(down0)\n",
        "        down2 = self.down2(down1)\n",
        "        down3 = self.down3(down2)\n",
        "        down4 = self.down4(down3)\n",
        "        latent_vec = self.to_vec(down4)\n",
        "\n",
        "        t = t.float() / timestep\n",
        "        latent_vec = self.dense_emb(latent_vec)\n",
        "        temb_1 = self.temb_1(t)\n",
        "        temb_2 = self.temb_2(t)\n",
        "        temb_3 = self.temb_3(t)\n",
        "        temb_4 = self.temb_4(t)\n",
        "\n",
        "        up0 = self.up0(latent_vec)\n",
        "        up1 = self.up1(up0+temb_1, down4)\n",
        "        up2 = self.up2(up1+temb_2, down3)\n",
        "        up3 = self.up3(up2+temb_3, down2)\n",
        "        up4 = self.up4(up3+temb_4, down1)\n",
        "        return self.out(up4)\n",
        "\n",
        "    def get_loss(self, input, t):\n",
        "        alphas_bar = self.alphas_bar.to(input.device)\n",
        "        alphas_bar_t = alphas_bar[t].view(-1, 1, 1, 1)\n",
        "\n",
        "        noise = torch.randn_like(input)\n",
        "        input = alphas_bar_t.sqrt() * input + (1 - alphas_bar_t).sqrt() * noise\n",
        "\n",
        "        pred = self(input, t)\n",
        "\n",
        "        #loss = F.mse_loss(pred, noise)\n",
        "        loss = (noise - pred).square().mean()\n",
        "\n",
        "        return loss\n",
        "\n",
        "    def sampling(self):\n",
        "        device = 'cuda' if torch.cuda.is_available() else 'cpu'\n",
        "        betas = self.betas.to(device)\n",
        "        alphas = self.alphas.to(device)\n",
        "        alphas_bar = self.alphas_bar.to(device)\n",
        "\n",
        "        x = torch.randn(self.image_size, device=device)\n",
        "\n",
        "        iteration = tqdm(range(0, self.timestep)[::-1])\n",
        "        iteration.set_description('Sampling...')\n",
        "\n",
        "        for t in iteration:\n",
        "            sigma = betas[t].sqrt()\n",
        "\n",
        "            if t > 0:\n",
        "                z = torch.randn(self.image_size, device=device)\n",
        "            else:\n",
        "                z = 0\n",
        "\n",
        "            pred = self(x, torch.tensor([t], device=x.device))\n",
        "            x = (1 / alphas[t].sqrt()) * (x - (1 - alphas[t]) / (1 - alphas_bar[t]).sqrt() * pred) + sigma * z\n",
        "\n",
        "        return x"
      ],
      "metadata": {
        "id": "XGaHObVtGFBR"
      },
      "execution_count": 6,
      "outputs": []
    },
    {
      "cell_type": "markdown",
      "source": [
        "# 사실 \"Torch\"를 배운다는 것은 바보 같은 생각\n",
        "- NN 아키텍쳐를 모르는 상태에서 토치 코드를 이해 할려고 하는 것은 미련한 시간 낭비\n",
        "- 애당초에 불가능 함\n",
        "\n",
        "- 예를 들자면, 위의 Discriminator 모델을 이해하기 위해서는 [Goodfellow J. I., et al., 의 Generative Adversarial Nets (GAN) 논문](https://arxiv.org/abs/1406.2661)을 이해햐아함\n",
        "\n",
        "- 그리고 그 다음 블록 (U-Net)을 이해할려면 [Ronneberger O., et al.,의 U-Net 논문을 읽어야함](https://arxiv.org/abs/1505.04597)\n",
        "\n",
        "- 위의 논문들은 나도 안 읽어 봄\n",
        "- 따라서 최근에 읽은 YOLO 논문을 기반으로 한번 진행해보고자 함"
      ],
      "metadata": {
        "id": "twRDU49-GPoi"
      }
    },
    {
      "cell_type": "code",
      "source": [],
      "metadata": {
        "id": "279-FCnTGa06"
      },
      "execution_count": null,
      "outputs": []
    }
  ]
}