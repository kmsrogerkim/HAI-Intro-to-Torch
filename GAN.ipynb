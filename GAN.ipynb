{
  "cells": [
    {
      "cell_type": "markdown",
      "metadata": {
        "id": "view-in-github",
        "colab_type": "text"
      },
      "source": [
        "<a href=\"https://colab.research.google.com/github/kmsrogerkim/HAI-Intro-to-Torch/blob/master/GAN.ipynb\" target=\"_parent\"><img src=\"https://colab.research.google.com/assets/colab-badge.svg\" alt=\"Open In Colab\"/></a>"
      ]
    },
    {
      "cell_type": "code",
      "execution_count": null,
      "metadata": {
        "id": "CgNNZE4fyZ_1"
      },
      "outputs": [],
      "source": [
        "import torch\n",
        "from torch import nn\n",
        "from torchvision.datasets import MNIST\n",
        "from torchvision import transforms\n",
        "\n",
        "import matplotlib.pyplot as plt\n",
        "from tqdm import tqdm"
      ]
    },
    {
      "cell_type": "code",
      "execution_count": null,
      "metadata": {
        "collapsed": true,
        "id": "5aL3cRGozxj8",
        "outputId": "1b705bd2-af57-4dc3-ec99-ca6a5f3e1a68"
      },
      "outputs": [
        {
          "name": "stderr",
          "output_type": "stream",
          "text": [
            "100%|██████████| 9.91M/9.91M [00:01<00:00, 5.19MB/s]\n",
            "100%|██████████| 28.9k/28.9k [00:00<00:00, 134kB/s]\n",
            "100%|██████████| 1.65M/1.65M [00:01<00:00, 1.23MB/s]\n",
            "100%|██████████| 4.54k/4.54k [00:00<00:00, 5.49MB/s]\n"
          ]
        }
      ],
      "source": [
        "# Make Train Data\n",
        "transform = transforms.Compose([\n",
        "    transforms.ToTensor(),\n",
        "    transforms.Normalize((0.5,), (0.5,))\n",
        "])\n",
        "\n",
        "train_dataset = MNIST(root='./data', train=True, transform=transform, download=True)\n",
        "train_loader = torch.utils.data.DataLoader(train_dataset, batch_size=64, shuffle=True)"
      ]
    },
    {
      "cell_type": "code",
      "execution_count": null,
      "metadata": {
        "id": "t_uRhoS1z5zC"
      },
      "outputs": [],
      "source": [
        "latent_dim = 100\n",
        "class Generator(nn.Module):\n",
        "  def __init__(self):\n",
        "    super(Generator, self).__init__()\n",
        "\n",
        "    # Define the Generator's architecture\n",
        "    self.model = nn.Sequential(\n",
        "        nn.Linear(latent_dim, 256),\n",
        "        nn.LeakyReLU(0.2),\n",
        "        nn.Linear(256, 512),\n",
        "        nn.LeakyReLU(0.2),\n",
        "        nn.Linear(512, 1024),\n",
        "        nn.LeakyReLU(0.2),\n",
        "        nn.Linear(1024, 28*28),\n",
        "        nn.Tanh()\n",
        "    )\n",
        "\n",
        "  def forward(self, x):\n",
        "    return self.model(x)"
      ]
    },
    {
      "cell_type": "code",
      "execution_count": null,
      "metadata": {
        "id": "mH0JxW0D0A-c"
      },
      "outputs": [],
      "source": [
        "class Discriminator(nn.Module):\n",
        "  def __init__(self):\n",
        "    super(Discriminator, self).__init__()\n",
        "    # Define the Discriminator's architecture\n",
        "    self.model = nn.Sequential(\n",
        "      nn.Linear(28*28, 1024),\n",
        "      nn.LeakyReLU(0.2),\n",
        "      nn.Dropout(0.3),\n",
        "      nn.Linear(1024, 512),\n",
        "      nn.LeakyReLU(0.2),\n",
        "      nn.Dropout(0.3),\n",
        "      nn.Linear(512, 256),\n",
        "      nn.LeakyReLU(0.2),\n",
        "      nn.Dropout(0.3),\n",
        "      nn.Linear(256, 1),\n",
        "      nn.Sigmoid()\n",
        "    )\n",
        "\n",
        "  def forward(self, x):\n",
        "    return self.model(x)"
      ]
    },
    {
      "cell_type": "code",
      "execution_count": null,
      "metadata": {
        "id": "kLzEet-Z0Ei_"
      },
      "outputs": [],
      "source": [
        "# Loss function\n",
        "criterion = nn.BCELoss()\n",
        "\n",
        "generator = Generator()\n",
        "discriminator = Discriminator()\n",
        "\n",
        "lr = 0.00021\n",
        "\n",
        "# Optimizers\n",
        "G_optimizer = torch.optim.Adam(generator.model.parameters(), lr=lr, betas=(0.5, 0.999))\n",
        "D_optimizer = torch.optim.Adam(discriminator.model.parameters(), lr=lr, betas=(0.5, 0.999))"
      ]
    },
    {
      "cell_type": "code",
      "execution_count": null,
      "metadata": {
        "collapsed": true,
        "id": "2c_1liQN0HUS"
      },
      "outputs": [],
      "source": [
        "import torch.autograd as autograd\n",
        "\n",
        "num_epochs = 5\n",
        "# Tries to use GPU\n",
        "device = torch.device(\"cuda\" if torch.cuda.is_available() else \"cpu\")\n",
        "generator.to(device)\n",
        "discriminator.to(device)\n",
        "criterion.to(device)\n",
        "\n",
        "# For graphing later on\n",
        "D_losses = []\n",
        "G_losses = []\n",
        "D_real_scores = []\n",
        "D_fake_scores = []\n",
        "\n",
        "# Training loop\n",
        "for epoch in tqdm(range(num_epochs)):\n",
        "    for i, (images, _) in enumerate(train_loader):\n",
        "        # Flatten the images for the Discriminator\n",
        "        images = images.view(images.size(0), -1).to(device)\n",
        "\n",
        "        # Real labels are 1, fake labels are 0\n",
        "        real_labels = torch.ones(images.size(0), 1).to(device)\n",
        "        fake_labels = torch.zeros(images.size(0), 1).to(device)\n",
        "\n",
        "        ############################\n",
        "        # Train the Discriminator\n",
        "        ############################\n",
        "        D_optimizer.zero_grad()\n",
        "\n",
        "        # Compute BCELoss using real images\n",
        "        outputs = discriminator(images)\n",
        "        D_loss_real = criterion(outputs, real_labels)\n",
        "        real_score = outputs\n",
        "\n",
        "        # Generate fake images\n",
        "        z = torch.randn(images.size(0), latent_dim).to(device)\n",
        "        fake_images = generator(z)\n",
        "\n",
        "        # Compute BCELoss using fake images\n",
        "        outputs = discriminator(fake_images.detach())\n",
        "        D_loss_fake = criterion(outputs, fake_labels)\n",
        "        fake_score = outputs\n",
        "\n",
        "        # Optimize the Discriminator\n",
        "        D_loss = D_loss_real + D_loss_fake\n",
        "        D_loss.backward()\n",
        "        D_optimizer.step()\n",
        "\n",
        "        ############################\n",
        "        # Train the Generator\n",
        "        ############################\n",
        "        G_optimizer.zero_grad()\n",
        "\n",
        "        # Generate fake images\n",
        "        z = torch.randn(images.size(0), latent_dim).to(device)\n",
        "        fake_images = generator(z)\n",
        "\n",
        "        # Compute BCELoss using fake images, with reversed labels\n",
        "        outputs = discriminator(fake_images)\n",
        "        G_loss = criterion(outputs, real_labels)\n",
        "\n",
        "        # Optimize the Generator\n",
        "        G_loss.backward()\n",
        "        G_optimizer.step()\n",
        "\n",
        "        if (i+1) % 100 == 0:\n",
        "            D_losses.append(D_loss.item())\n",
        "            G_losses.append(G_loss.item())\n",
        "            D_real_scores.append(real_score.mean().item())\n",
        "            D_fake_scores.append(fake_score.mean().item())"
      ]
    },
    {
      "cell_type": "code",
      "execution_count": null,
      "metadata": {
        "id": "0HOaXLVOxCsM"
      },
      "outputs": [],
      "source": [
        "plt.figure(figsize=(12,5))\n",
        "\n",
        "# Plot Losses\n",
        "plt.subplot(1, 2, 1)\n",
        "plt.plot(D_losses, label='Discriminator Loss')\n",
        "plt.plot(G_losses, label='Generator Loss')\n",
        "plt.title('Losses')\n",
        "plt.legend()\n",
        "\n",
        "# Plot Discriminator Scores\n",
        "plt.subplot(1, 2, 2)\n",
        "plt.plot(D_real_scores, label='D(x)')\n",
        "plt.plot(D_fake_scores, label='D(G(z))')\n",
        "plt.title('Discriminator Scores')\n",
        "plt.legend()\n",
        "\n",
        "plt.tight_layout()\n",
        "plt.show()"
      ]
    },
    {
      "cell_type": "code",
      "execution_count": null,
      "metadata": {
        "id": "TUntJ7IAxCsN"
      },
      "outputs": [],
      "source": [
        "torch.save(generator.state_dict(), 'generator.pth')"
      ]
    },
    {
      "cell_type": "code",
      "execution_count": null,
      "metadata": {
        "id": "OAtNGXOJ0H69"
      },
      "outputs": [],
      "source": [
        "# Generate fake images for visualization\n",
        "z = torch.randn(16, latent_dim).to(device)\n",
        "fake_images = generator(z)\n",
        "fake_images = fake_images.view(fake_images.size(0), 1, 28, 28)\n",
        "fake_images = (fake_images + 1) / 2  # Rescale images to [0, 1]\n",
        "\n",
        "# Plot the fake images\n",
        "import matplotlib.pyplot as plt\n",
        "\n",
        "fig, axes = plt.subplots(1, 16, figsize=(15, 15))\n",
        "for ax, img in zip(axes.flatten(), fake_images):\n",
        "    ax.axis('off')\n",
        "    ax.set_adjustable('box')\n",
        "    img = transforms.ToPILImage()(img.cpu().squeeze())\n",
        "    ax.imshow(img, cmap='gray')\n",
        "plt.show()"
      ]
    }
  ],
  "metadata": {
    "accelerator": "GPU",
    "colab": {
      "gpuType": "T4",
      "provenance": [],
      "include_colab_link": true
    },
    "kernelspec": {
      "display_name": ".venv",
      "language": "python",
      "name": "python3"
    },
    "language_info": {
      "codemirror_mode": {
        "name": "ipython",
        "version": 3
      },
      "file_extension": ".py",
      "mimetype": "text/x-python",
      "name": "python",
      "nbconvert_exporter": "python",
      "pygments_lexer": "ipython3",
      "version": "3.10.12"
    }
  },
  "nbformat": 4,
  "nbformat_minor": 0
}